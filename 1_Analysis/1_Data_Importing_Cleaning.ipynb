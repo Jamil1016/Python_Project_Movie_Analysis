{
 "cells": [
  {
   "cell_type": "code",
   "execution_count": 54,
   "id": "ddb5e203",
   "metadata": {},
   "outputs": [],
   "source": [
    "import pandas as pd\n",
    "import numpy as np\n",
    "import matplotlib.pyplot as plt\n",
    "import seaborn as sns\n",
    "import ast\n",
    "\n",
    "movies_df = pd.read_csv(r'C:\\Users\\Administrator\\Desktop\\Studies\\Python\\Python_Project_Movie_Analysis\\Python_Project_Movie_Analysis\\0_Dataset\\movies_metadata.csv', low_memory= False)\n",
    "\n",
    "movies_df['release_date'] = pd.to_datetime(movies_df['release_date'],errors='coerce') # Convert data type of release_date to datetime.\n",
    "movies_df['budget'] = pd.to_numeric(movies_df['budget'], errors='coerce') # Convert data type of budget to numeric.\n",
    "\n",
    "\n",
    "def list_name(string_list_dict): # Convert the string list of dictionary into list of name.\n",
    "    list_dict = ast.literal_eval(string_list_dict) if pd.notna(string_list_dict) else string_list_dict\n",
    "    return [dict['name'] for dict in list_dict] if isinstance(list_dict,list) else []\n",
    "\n",
    "movies_df['genres'] = movies_df['genres'].apply(lambda x: list_name(x))\n",
    "movies_df['production_companies'] = movies_df['production_companies'].apply(lambda x: list_name(x))\n",
    "movies_df['production_countries'] = movies_df['production_countries'].apply(lambda x: list_name(x))"
   ]
  },
  {
   "cell_type": "code",
   "execution_count": 64,
   "id": "de70d84e",
   "metadata": {},
   "outputs": [
    {
     "name": "stdout",
     "output_type": "stream",
     "text": [
      "<class 'pandas.core.frame.DataFrame'>\n",
      "Index: 21153 entries, 0 to 45463\n",
      "Data columns (total 24 columns):\n",
      " #   Column                 Non-Null Count  Dtype         \n",
      "---  ------                 --------------  -----         \n",
      " 0   adult                  21153 non-null  object        \n",
      " 1   belongs_to_collection  2573 non-null   object        \n",
      " 2   budget                 21153 non-null  float64       \n",
      " 3   genres                 21153 non-null  object        \n",
      " 4   homepage               4107 non-null   object        \n",
      " 5   id                     21153 non-null  object        \n",
      " 6   imdb_id                21150 non-null  object        \n",
      " 7   original_language      21149 non-null  object        \n",
      " 8   original_title         21153 non-null  object        \n",
      " 9   overview               21116 non-null  object        \n",
      " 10  popularity             21153 non-null  object        \n",
      " 11  poster_path            21075 non-null  object        \n",
      " 12  production_companies   21153 non-null  object        \n",
      " 13  production_countries   21153 non-null  object        \n",
      " 14  release_date           21147 non-null  datetime64[ns]\n",
      " 15  revenue                21153 non-null  float64       \n",
      " 16  runtime                21148 non-null  float64       \n",
      " 17  spoken_languages       21153 non-null  object        \n",
      " 18  status                 21139 non-null  object        \n",
      " 19  tagline                14003 non-null  object        \n",
      " 20  title                  21153 non-null  object        \n",
      " 21  video                  21153 non-null  object        \n",
      " 22  vote_average           21153 non-null  float64       \n",
      " 23  vote_count             21153 non-null  float64       \n",
      "dtypes: datetime64[ns](1), float64(5), object(18)\n",
      "memory usage: 4.0+ MB\n"
     ]
    }
   ],
   "source": [
    "movies_df = movies_df.explode('production_countries')\n",
    "movies_df_US = movies_df[movies_df['production_countries'] == \"United States of America\"].copy() # Filtering all the movies that was produced in United States.\n",
    "\n",
    "movies_df_US.info()"
   ]
  }
 ],
 "metadata": {
  "kernelspec": {
   "display_name": "python_course",
   "language": "python",
   "name": "python3"
  },
  "language_info": {
   "codemirror_mode": {
    "name": "ipython",
    "version": 3
   },
   "file_extension": ".py",
   "mimetype": "text/x-python",
   "name": "python",
   "nbconvert_exporter": "python",
   "pygments_lexer": "ipython3",
   "version": "3.11.11"
  }
 },
 "nbformat": 4,
 "nbformat_minor": 5
}
