{
 "cells": [
  {
   "cell_type": "code",
   "execution_count": 12,
   "id": "ddb5e203",
   "metadata": {},
   "outputs": [],
   "source": [
    "import pandas as pd\n",
    "import numpy as np\n",
    "import matplotlib.pyplot as plt\n",
    "import seaborn as sns\n",
    "import ast\n",
    "\n",
    "movies_df = pd.read_csv(r'C:\\Users\\Administrator\\Desktop\\Studies\\Python\\Python_Project_Movie_Analysis\\Python_Project_Movie_Analysis\\0_Dataset\\movies_metadata.csv', low_memory= False)\n",
    "\n",
    "movies_df['release_date'] = pd.to_datetime(movies_df['release_date'],errors='coerce') # Convert data type of release_date to datetime.\n",
    "movies_df['budget'] = pd.to_numeric(movies_df['budget'], errors='coerce') # Convert data type of budget to numeric.\n",
    "\n",
    "\n",
    "def list_name(string_list_dict): # Convert the string list of dictionary into list of name.\n",
    "    list_dict = ast.literal_eval(string_list_dict) if pd.notna(string_list_dict) else string_list_dict\n",
    "    return [dict['name'] for dict in list_dict] if isinstance(list_dict,list) else []\n",
    "\n",
    "movies_df['genres'] = movies_df['genres'].apply(lambda x: list_name(x))\n",
    "movies_df['production_companies'] = movies_df['production_companies'].apply(lambda x: list_name(x))\n",
    "movies_df['production_countries'] = movies_df['production_countries'].apply(lambda x: list_name(x))"
   ]
  },
  {
   "cell_type": "code",
   "execution_count": 15,
   "id": "de70d84e",
   "metadata": {},
   "outputs": [
    {
     "name": "stdout",
     "output_type": "stream",
     "text": [
      "<class 'pandas.core.frame.DataFrame'>\n",
      "Index: 1063 entries, 0 to 44842\n",
      "Data columns (total 24 columns):\n",
      " #   Column                 Non-Null Count  Dtype         \n",
      "---  ------                 --------------  -----         \n",
      " 0   adult                  1063 non-null   object        \n",
      " 1   belongs_to_collection  441 non-null    object        \n",
      " 2   budget                 1063 non-null   float64       \n",
      " 3   genres                 1063 non-null   object        \n",
      " 4   homepage               658 non-null    object        \n",
      " 5   id                     1063 non-null   object        \n",
      " 6   imdb_id                1063 non-null   object        \n",
      " 7   original_language      1063 non-null   object        \n",
      " 8   original_title         1063 non-null   object        \n",
      " 9   overview               1063 non-null   object        \n",
      " 10  popularity             1063 non-null   object        \n",
      " 11  poster_path            1063 non-null   object        \n",
      " 12  production_companies   1063 non-null   object        \n",
      " 13  production_countries   1063 non-null   object        \n",
      " 14  release_date           1063 non-null   datetime64[ns]\n",
      " 15  revenue                1063 non-null   float64       \n",
      " 16  runtime                1063 non-null   float64       \n",
      " 17  spoken_languages       1063 non-null   object        \n",
      " 18  status                 1063 non-null   object        \n",
      " 19  tagline                1041 non-null   object        \n",
      " 20  title                  1063 non-null   object        \n",
      " 21  video                  1063 non-null   object        \n",
      " 22  vote_average           1063 non-null   float64       \n",
      " 23  vote_count             1063 non-null   float64       \n",
      "dtypes: datetime64[ns](1), float64(5), object(18)\n",
      "memory usage: 207.6+ KB\n"
     ]
    }
   ],
   "source": [
    "movies_df = movies_df.explode('production_countries')\n",
    "movies_df_US = movies_df[movies_df['production_countries'] == \"United States of America\"].copy() # Filtering all the movies that was produced in United States.\n",
    "movies_df_US = movies_df_US[movies_df_US['vote_count'] > 1000] # Focus on movies with voutcount morethat 1000\n",
    "movies_df_US.info()"
   ]
  }
 ],
 "metadata": {
  "kernelspec": {
   "display_name": "python_course",
   "language": "python",
   "name": "python3"
  },
  "language_info": {
   "codemirror_mode": {
    "name": "ipython",
    "version": 3
   },
   "file_extension": ".py",
   "mimetype": "text/x-python",
   "name": "python",
   "nbconvert_exporter": "python",
   "pygments_lexer": "ipython3",
   "version": "3.11.11"
  }
 },
 "nbformat": 4,
 "nbformat_minor": 5
}
